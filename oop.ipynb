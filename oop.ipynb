{
 "cells": [
  {
   "cell_type": "code",
   "execution_count": 4,
   "id": "b3c27d0d",
   "metadata": {},
   "outputs": [
    {
     "data": {
      "text/plain": [
       "{'name': 'John', 'empid': '110011K', 'salary': 500000}"
      ]
     },
     "execution_count": 4,
     "metadata": {},
     "output_type": "execute_result"
    }
   ],
   "source": [
    "class Employee:\n",
    "    company=\"Nuberg Engg. Ltd.\"\n",
    "    def __init__(self,name,empid,salary=10000):\n",
    "        self.name=name\n",
    "        self.empid=empid\n",
    "        self.salary=salary\n",
    "        \n",
    "emp=Employee(\"John\", \"110011K\",500000)\n",
    "emp.__dict__"
   ]
  },
  {
   "cell_type": "code",
   "execution_count": 5,
   "id": "2cc26d50",
   "metadata": {},
   "outputs": [
    {
     "data": {
      "text/plain": [
       "mappingproxy({'__module__': '__main__',\n",
       "              'company': 'Nuberg Engg. Ltd.',\n",
       "              '__init__': <function __main__.Employee.__init__(self, name, empid, salary=10000)>,\n",
       "              '__dict__': <attribute '__dict__' of 'Employee' objects>,\n",
       "              '__weakref__': <attribute '__weakref__' of 'Employee' objects>,\n",
       "              '__doc__': None})"
      ]
     },
     "execution_count": 5,
     "metadata": {},
     "output_type": "execute_result"
    }
   ],
   "source": [
    "Employee.__dict__"
   ]
  },
  {
   "cell_type": "code",
   "execution_count": 6,
   "id": "56972324",
   "metadata": {},
   "outputs": [
    {
     "data": {
      "text/plain": [
       "{'name': 'Prateek', 'empid': '110022J', 'salary': 1850000}"
      ]
     },
     "execution_count": 6,
     "metadata": {},
     "output_type": "execute_result"
    }
   ],
   "source": [
    "emp2=Employee(\"Prateek\",\"110022J\",1850000)\n",
    "emp2.__dict__"
   ]
  },
  {
   "cell_type": "code",
   "execution_count": 7,
   "id": "a2b6d883",
   "metadata": {},
   "outputs": [
    {
     "data": {
      "text/plain": [
       "{'name': 'Prateek', 'empid': '110022J', 'salary': 1850000, 'company': 'Isgec'}"
      ]
     },
     "execution_count": 7,
     "metadata": {},
     "output_type": "execute_result"
    }
   ],
   "source": [
    "emp2.company=\"Isgec\"\n",
    "emp2.__dict__"
   ]
  },
  {
   "cell_type": "code",
   "execution_count": 8,
   "id": "ce694247",
   "metadata": {},
   "outputs": [
    {
     "data": {
      "text/plain": [
       "'Nuberg Engg. Ltd.'"
      ]
     },
     "execution_count": 8,
     "metadata": {},
     "output_type": "execute_result"
    }
   ],
   "source": [
    "emp.company"
   ]
  },
  {
   "cell_type": "code",
   "execution_count": 9,
   "id": "bd9e5202",
   "metadata": {},
   "outputs": [],
   "source": [
    "Employee.company=\"Thermax\""
   ]
  },
  {
   "cell_type": "code",
   "execution_count": 10,
   "id": "39ba73a2",
   "metadata": {},
   "outputs": [
    {
     "data": {
      "text/plain": [
       "'Thermax'"
      ]
     },
     "execution_count": 10,
     "metadata": {},
     "output_type": "execute_result"
    }
   ],
   "source": [
    "emp.company"
   ]
  },
  {
   "cell_type": "code",
   "execution_count": 11,
   "id": "ad1e3795",
   "metadata": {},
   "outputs": [
    {
     "data": {
      "text/plain": [
       "{'name': 'John', 'empid': '110011K', 'salary': 500000}"
      ]
     },
     "execution_count": 11,
     "metadata": {},
     "output_type": "execute_result"
    }
   ],
   "source": [
    "emp.__dict__"
   ]
  },
  {
   "cell_type": "code",
   "execution_count": 12,
   "id": "541b6eef",
   "metadata": {},
   "outputs": [
    {
     "data": {
      "text/plain": [
       "'Isgec'"
      ]
     },
     "execution_count": 12,
     "metadata": {},
     "output_type": "execute_result"
    }
   ],
   "source": [
    "emp2.company"
   ]
  },
  {
   "cell_type": "code",
   "execution_count": 13,
   "id": "6b98aff1",
   "metadata": {},
   "outputs": [
    {
     "data": {
      "text/plain": [
       "{'name': 'Prateek', 'empid': '110022J', 'salary': 1850000, 'company': 'Isgec'}"
      ]
     },
     "execution_count": 13,
     "metadata": {},
     "output_type": "execute_result"
    }
   ],
   "source": [
    "emp2.__dict__"
   ]
  },
  {
   "cell_type": "code",
   "execution_count": 14,
   "id": "12ba7971",
   "metadata": {},
   "outputs": [
    {
     "data": {
      "text/plain": [
       "['__class__',\n",
       " '__delattr__',\n",
       " '__dict__',\n",
       " '__dir__',\n",
       " '__doc__',\n",
       " '__eq__',\n",
       " '__format__',\n",
       " '__ge__',\n",
       " '__getattribute__',\n",
       " '__gt__',\n",
       " '__hash__',\n",
       " '__init__',\n",
       " '__init_subclass__',\n",
       " '__le__',\n",
       " '__lt__',\n",
       " '__module__',\n",
       " '__ne__',\n",
       " '__new__',\n",
       " '__reduce__',\n",
       " '__reduce_ex__',\n",
       " '__repr__',\n",
       " '__setattr__',\n",
       " '__sizeof__',\n",
       " '__str__',\n",
       " '__subclasshook__',\n",
       " '__weakref__',\n",
       " 'company',\n",
       " 'empid',\n",
       " 'name',\n",
       " 'salary']"
      ]
     },
     "execution_count": 14,
     "metadata": {},
     "output_type": "execute_result"
    }
   ],
   "source": [
    "dir(emp2)"
   ]
  },
  {
   "cell_type": "code",
   "execution_count": 24,
   "id": "560000e5",
   "metadata": {},
   "outputs": [
    {
     "name": "stdout",
     "output_type": "stream",
     "text": [
      "Company is Nuberg Engg. Ltd.\n",
      "Company is Isgec\n",
      "Company is Nuberg Engg. Ltd.\n"
     ]
    }
   ],
   "source": [
    "class Employee:\n",
    "    company=\"Nuberg Engg. Ltd.\"\n",
    "    \n",
    "    @classmethod\n",
    "    def tell_company(cls,self):\n",
    "        print(f'Company is {self.company}')\n",
    "        \n",
    "    def __init__(self,name,empid,salary=10000):\n",
    "        self.name=name\n",
    "        self.empid=empid\n",
    "        self.salary=salary\n",
    "        \n",
    "emp=Employee(\"John\", \"110011K\",500000)\n",
    "emp2=Employee(\"Prateek\",\"110022J\", 1850000)\n",
    "emp2.company=\"Isgec\"\n",
    "\n",
    "\n",
    "emp.tell_company(emp)\n",
    "emp2.tell_company(emp2)\n",
    "Employee.tell_company(emp)"
   ]
  },
  {
   "cell_type": "code",
   "execution_count": null,
   "id": "174efec2",
   "metadata": {},
   "outputs": [],
   "source": []
  }
 ],
 "metadata": {
  "kernelspec": {
   "display_name": "Python 3",
   "language": "python",
   "name": "python3"
  },
  "language_info": {
   "codemirror_mode": {
    "name": "ipython",
    "version": 3
   },
   "file_extension": ".py",
   "mimetype": "text/x-python",
   "name": "python",
   "nbconvert_exporter": "python",
   "pygments_lexer": "ipython3",
   "version": "3.9.5"
  }
 },
 "nbformat": 4,
 "nbformat_minor": 5
}

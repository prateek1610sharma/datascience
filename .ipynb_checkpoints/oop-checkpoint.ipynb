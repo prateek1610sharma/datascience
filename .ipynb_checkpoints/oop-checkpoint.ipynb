{
 "cells": [
  {
   "cell_type": "code",
   "execution_count": 4,
   "id": "50f0b979",
   "metadata": {},
   "outputs": [
    {
     "data": {
      "text/plain": [
       "{'name': 'John', 'empid': '110011K', 'salary': 500000}"
      ]
     },
     "execution_count": 4,
     "metadata": {},
     "output_type": "execute_result"
    }
   ],
   "source": [
    "class Employee:\n",
    "    company=\"Nuberg Engg. Ltd.\"\n",
    "    def __init__(self,name,empid,salary=10000):\n",
    "        self.name=name\n",
    "        self.empid=empid\n",
    "        self.salary=salary\n",
    "        \n",
    "emp=Employee(\"John\", \"110011K\",500000)\n",
    "emp.__dict__"
   ]
  },
  {
   "cell_type": "code",
   "execution_count": 5,
   "id": "d47cf2a8",
   "metadata": {},
   "outputs": [
    {
     "data": {
      "text/plain": [
       "mappingproxy({'__module__': '__main__',\n",
       "              'company': 'Nuberg Engg. Ltd.',\n",
       "              '__init__': <function __main__.Employee.__init__(self, name, empid, salary=10000)>,\n",
       "              '__dict__': <attribute '__dict__' of 'Employee' objects>,\n",
       "              '__weakref__': <attribute '__weakref__' of 'Employee' objects>,\n",
       "              '__doc__': None})"
      ]
     },
     "execution_count": 5,
     "metadata": {},
     "output_type": "execute_result"
    }
   ],
   "source": [
    "Employee.__dict__"
   ]
  },
  {
   "cell_type": "code",
   "execution_count": 6,
   "id": "ae156976",
   "metadata": {},
   "outputs": [
    {
     "data": {
      "text/plain": [
       "{'name': 'Prateek', 'empid': '110022J', 'salary': 1850000}"
      ]
     },
     "execution_count": 6,
     "metadata": {},
     "output_type": "execute_result"
    }
   ],
   "source": [
    "emp2=Employee(\"Prateek\",\"110022J\",1850000)\n",
    "emp2.__dict__"
   ]
  },
  {
   "cell_type": "code",
   "execution_count": 7,
   "id": "5c5e81b3",
   "metadata": {},
   "outputs": [
    {
     "data": {
      "text/plain": [
       "{'name': 'Prateek', 'empid': '110022J', 'salary': 1850000, 'company': 'Isgec'}"
      ]
     },
     "execution_count": 7,
     "metadata": {},
     "output_type": "execute_result"
    }
   ],
   "source": [
    "emp2.company=\"Isgec\"\n",
    "emp2.__dict__"
   ]
  },
  {
   "cell_type": "code",
   "execution_count": 8,
   "id": "da86e856",
   "metadata": {},
   "outputs": [
    {
     "data": {
      "text/plain": [
       "'Nuberg Engg. Ltd.'"
      ]
     },
     "execution_count": 8,
     "metadata": {},
     "output_type": "execute_result"
    }
   ],
   "source": [
    "emp.company"
   ]
  },
  {
   "cell_type": "code",
   "execution_count": 9,
   "id": "ff6af111",
   "metadata": {},
   "outputs": [],
   "source": [
    "Employee.company=\"Thermax\""
   ]
  },
  {
   "cell_type": "code",
   "execution_count": 10,
   "id": "3656f1aa",
   "metadata": {},
   "outputs": [
    {
     "data": {
      "text/plain": [
       "'Thermax'"
      ]
     },
     "execution_count": 10,
     "metadata": {},
     "output_type": "execute_result"
    }
   ],
   "source": [
    "emp.company"
   ]
  },
  {
   "cell_type": "code",
   "execution_count": 11,
   "id": "4c69b24a",
   "metadata": {},
   "outputs": [
    {
     "data": {
      "text/plain": [
       "{'name': 'John', 'empid': '110011K', 'salary': 500000}"
      ]
     },
     "execution_count": 11,
     "metadata": {},
     "output_type": "execute_result"
    }
   ],
   "source": [
    "emp.__dict__"
   ]
  },
  {
   "cell_type": "code",
   "execution_count": 12,
   "id": "4f00893d",
   "metadata": {},
   "outputs": [
    {
     "data": {
      "text/plain": [
       "'Isgec'"
      ]
     },
     "execution_count": 12,
     "metadata": {},
     "output_type": "execute_result"
    }
   ],
   "source": [
    "emp2.company"
   ]
  },
  {
   "cell_type": "code",
   "execution_count": 13,
   "id": "50121f4d",
   "metadata": {},
   "outputs": [
    {
     "data": {
      "text/plain": [
       "{'name': 'Prateek', 'empid': '110022J', 'salary': 1850000, 'company': 'Isgec'}"
      ]
     },
     "execution_count": 13,
     "metadata": {},
     "output_type": "execute_result"
    }
   ],
   "source": [
    "emp2.__dict__"
   ]
  },
  {
   "cell_type": "code",
   "execution_count": 14,
   "id": "9a27888b",
   "metadata": {},
   "outputs": [
    {
     "data": {
      "text/plain": [
       "['__class__',\n",
       " '__delattr__',\n",
       " '__dict__',\n",
       " '__dir__',\n",
       " '__doc__',\n",
       " '__eq__',\n",
       " '__format__',\n",
       " '__ge__',\n",
       " '__getattribute__',\n",
       " '__gt__',\n",
       " '__hash__',\n",
       " '__init__',\n",
       " '__init_subclass__',\n",
       " '__le__',\n",
       " '__lt__',\n",
       " '__module__',\n",
       " '__ne__',\n",
       " '__new__',\n",
       " '__reduce__',\n",
       " '__reduce_ex__',\n",
       " '__repr__',\n",
       " '__setattr__',\n",
       " '__sizeof__',\n",
       " '__str__',\n",
       " '__subclasshook__',\n",
       " '__weakref__',\n",
       " 'company',\n",
       " 'empid',\n",
       " 'name',\n",
       " 'salary']"
      ]
     },
     "execution_count": 14,
     "metadata": {},
     "output_type": "execute_result"
    }
   ],
   "source": [
    "dir(emp2)"
   ]
  },
  {
   "cell_type": "code",
   "execution_count": 31,
   "id": "6b21d287",
   "metadata": {},
   "outputs": [
    {
     "name": "stdout",
     "output_type": "stream",
     "text": [
      "KPIZT55645P\n",
      "Company for John is Nuberg Engg. Ltd.\n",
      "Company for Prateek is Isgec\n",
      "Company for John is Nuberg Engg. Ltd.\n",
      "Company for Prateek is Isgec\n",
      "Hello Everyone\n",
      "Hello Everyone\n"
     ]
    }
   ],
   "source": [
    "class Employee:\n",
    "    company=\"Nuberg Engg. Ltd.\"\n",
    "    __GST=\"KPIZT55645P\"\n",
    "    \n",
    "    @classmethod\n",
    "    def tell_company(cls,*args):\n",
    "        for i in args:\n",
    "            \n",
    "            print(f'Company for {i.name} is {i.company}')\n",
    "        \n",
    "    @staticmethod\n",
    "    def hello():\n",
    "        print(\"Hello Everyone\")\n",
    "        \n",
    "    def __init__(self,name,empid,salary=10000):\n",
    "        self.name=name\n",
    "        self.empid=empid\n",
    "        self.salary=salary\n",
    "        \n",
    "emp=Employee(\"John\", \"110011K\",500000)\n",
    "emp2=Employee(\"Prateek\",\"110022J\", 1850000)\n",
    "emp2.company=\"Isgec\"\n",
    "print(emp._Employee__GST)\n",
    "\n",
    "emp.tell_company(emp)\n",
    "emp2.tell_company(emp2)\n",
    "Employee.tell_company(emp,emp2)\n",
    "Employee.hello()\n",
    "emp.hello()"
   ]
  },
  {
   "cell_type": "code",
   "execution_count": 34,
   "id": "83c50e6d",
   "metadata": {},
   "outputs": [
    {
     "name": "stdout",
     "output_type": "stream",
     "text": [
      "Filling form\n"
     ]
    }
   ],
   "source": [
    "from abc import abstractmethod , ABC\n",
    "\n",
    "class Employee(ABC):\n",
    "    @abstractmethod\n",
    "    def fillform():\n",
    "        pass\n",
    "    \n",
    "class engineer(Employee):\n",
    "    def fillform(self):\n",
    "        print(\"Filling form\")\n",
    "        \n",
    "engineer1=engineer()\n",
    "engineer1.fillform()"
   ]
  },
  {
   "cell_type": "code",
   "execution_count": null,
   "id": "d2237f78",
   "metadata": {},
   "outputs": [],
   "source": []
  }
 ],
 "metadata": {
  "kernelspec": {
   "display_name": "Python 3",
   "language": "python",
   "name": "python3"
  },
  "language_info": {
   "codemirror_mode": {
    "name": "ipython",
    "version": 3
   },
   "file_extension": ".py",
   "mimetype": "text/x-python",
   "name": "python",
   "nbconvert_exporter": "python",
   "pygments_lexer": "ipython3",
   "version": "3.9.5"
  }
 },
 "nbformat": 4,
 "nbformat_minor": 5
}

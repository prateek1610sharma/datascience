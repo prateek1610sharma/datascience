{
 "cells": [
  {
   "cell_type": "code",
   "execution_count": 2,
   "id": "871dc022",
   "metadata": {},
   "outputs": [],
   "source": [
    "import numpy as np"
   ]
  },
  {
   "cell_type": "code",
   "execution_count": 3,
   "id": "91734be9",
   "metadata": {},
   "outputs": [
    {
     "data": {
      "text/plain": [
       "array([[ 0.75663337, -0.68619708, -1.59977064, -0.09050398, -0.72455802],\n",
       "       [ 0.47806253, -1.51399443,  0.17391022,  1.14385979,  0.26754446],\n",
       "       [-0.29059446, -0.14803879, -0.83096088, -0.3464901 ,  0.0956119 ]])"
      ]
     },
     "execution_count": 3,
     "metadata": {},
     "output_type": "execute_result"
    }
   ],
   "source": [
    "arr = np.random.randn(3,5)\n",
    "arr"
   ]
  },
  {
   "cell_type": "code",
   "execution_count": 4,
   "id": "195c39ba",
   "metadata": {},
   "outputs": [
    {
     "data": {
      "text/plain": [
       "numpy.ndarray"
      ]
     },
     "execution_count": 4,
     "metadata": {},
     "output_type": "execute_result"
    }
   ],
   "source": [
    "type(arr)"
   ]
  },
  {
   "cell_type": "code",
   "execution_count": 5,
   "id": "e45ef28b",
   "metadata": {},
   "outputs": [
    {
     "data": {
      "text/plain": [
       "dtype('float64')"
      ]
     },
     "execution_count": 5,
     "metadata": {},
     "output_type": "execute_result"
    }
   ],
   "source": [
    "arr.dtype"
   ]
  },
  {
   "cell_type": "code",
   "execution_count": 6,
   "id": "a9980772",
   "metadata": {},
   "outputs": [
    {
     "name": "stdout",
     "output_type": "stream",
     "text": [
      "[0. 0. 0. 0. 0.]\n"
     ]
    }
   ],
   "source": [
    "print(np.zeros(5))"
   ]
  },
  {
   "cell_type": "code",
   "execution_count": 10,
   "id": "944c9233",
   "metadata": {},
   "outputs": [
    {
     "name": "stdout",
     "output_type": "stream",
     "text": [
      "[[0. 0. 1. 0. 0. 0. 0. 0.]\n",
      " [0. 0. 0. 1. 0. 0. 0. 0.]\n",
      " [0. 0. 0. 0. 1. 0. 0. 0.]\n",
      " [0. 0. 0. 0. 0. 1. 0. 0.]\n",
      " [0. 0. 0. 0. 0. 0. 1. 0.]]\n"
     ]
    }
   ],
   "source": [
    "print(np.eye(5,8,2))"
   ]
  },
  {
   "cell_type": "code",
   "execution_count": 13,
   "id": "ff48996b",
   "metadata": {},
   "outputs": [
    {
     "name": "stdout",
     "output_type": "stream",
     "text": [
      "[1. 1. 1. 1. 1.]\n"
     ]
    }
   ],
   "source": [
    "print(np.diag(np.eye(5,8)))"
   ]
  },
  {
   "cell_type": "code",
   "execution_count": 15,
   "id": "4520d405",
   "metadata": {},
   "outputs": [
    {
     "name": "stdout",
     "output_type": "stream",
     "text": [
      "[ 6.   8.5 11.  13.5 16.  18.5 21. ]\n"
     ]
    }
   ],
   "source": [
    "print(np.arange(6,23,2.5))"
   ]
  },
  {
   "cell_type": "code",
   "execution_count": 16,
   "id": "d8666bf7",
   "metadata": {},
   "outputs": [
    {
     "name": "stdout",
     "output_type": "stream",
     "text": [
      "[[0. 1. 2. 3.]\n",
      " [1. 2. 3. 4.]\n",
      " [2. 3. 4. 5.]\n",
      " [3. 4. 5. 6.]]\n"
     ]
    }
   ],
   "source": [
    "fun=lambda x,y : x+y\n",
    "print(np.fromfunction(fun,(4,4)))"
   ]
  },
  {
   "cell_type": "code",
   "execution_count": 18,
   "id": "9afb3fb8",
   "metadata": {},
   "outputs": [
    {
     "name": "stdout",
     "output_type": "stream",
     "text": [
      "48.0\n"
     ]
    }
   ],
   "source": [
    "fun=lambda x,y : x+y\n",
    "print(np.sum(np.fromfunction(fun,(4,4))))"
   ]
  },
  {
   "cell_type": "code",
   "execution_count": 19,
   "id": "97a30b3a",
   "metadata": {},
   "outputs": [],
   "source": [
    "fun=lambda x,y : x+y\n",
    "arr=(np.fromfunction(fun,(4,4)))"
   ]
  },
  {
   "cell_type": "code",
   "execution_count": 20,
   "id": "afdb461a",
   "metadata": {},
   "outputs": [
    {
     "data": {
      "text/plain": [
       "5.0"
      ]
     },
     "execution_count": 20,
     "metadata": {},
     "output_type": "execute_result"
    }
   ],
   "source": [
    "arr[2][3]"
   ]
  },
  {
   "cell_type": "code",
   "execution_count": 21,
   "id": "9c91e9bc",
   "metadata": {},
   "outputs": [
    {
     "data": {
      "text/plain": [
       "5.0"
      ]
     },
     "execution_count": 21,
     "metadata": {},
     "output_type": "execute_result"
    }
   ],
   "source": [
    "arr[2,3]"
   ]
  },
  {
   "cell_type": "code",
   "execution_count": 23,
   "id": "4856f726",
   "metadata": {},
   "outputs": [],
   "source": [
    "countries=np.array(['India','USA','Australia','Greece','Bhutan'])\n",
    "data=np.array([[1,2,3],[2,3,40],[23,43,21],[0,5,0],[5,5,5]])"
   ]
  },
  {
   "cell_type": "code",
   "execution_count": 24,
   "id": "c2638783",
   "metadata": {},
   "outputs": [
    {
     "data": {
      "text/plain": [
       "array([ True, False, False, False, False])"
      ]
     },
     "execution_count": 24,
     "metadata": {},
     "output_type": "execute_result"
    }
   ],
   "source": [
    "countries=='India'"
   ]
  },
  {
   "cell_type": "code",
   "execution_count": 27,
   "id": "89c7c416",
   "metadata": {},
   "outputs": [
    {
     "data": {
      "text/plain": [
       "array([[1, 2, 3]])"
      ]
     },
     "execution_count": 27,
     "metadata": {},
     "output_type": "execute_result"
    }
   ],
   "source": [
    "data[[ True, False, False, False, False]]"
   ]
  },
  {
   "cell_type": "code",
   "execution_count": 29,
   "id": "13ac99a9",
   "metadata": {},
   "outputs": [
    {
     "data": {
      "text/plain": [
       "array([[ 2,  3, 40]])"
      ]
     },
     "execution_count": 29,
     "metadata": {},
     "output_type": "execute_result"
    }
   ],
   "source": [
    "data[countries=='USA']"
   ]
  },
  {
   "cell_type": "code",
   "execution_count": 30,
   "id": "cbde72df",
   "metadata": {},
   "outputs": [
    {
     "data": {
      "text/plain": [
       "array([20.        , 20.20408163, 20.40816327, 20.6122449 , 20.81632653,\n",
       "       21.02040816, 21.2244898 , 21.42857143, 21.63265306, 21.83673469,\n",
       "       22.04081633, 22.24489796, 22.44897959, 22.65306122, 22.85714286,\n",
       "       23.06122449, 23.26530612, 23.46938776, 23.67346939, 23.87755102,\n",
       "       24.08163265, 24.28571429, 24.48979592, 24.69387755, 24.89795918,\n",
       "       25.10204082, 25.30612245, 25.51020408, 25.71428571, 25.91836735,\n",
       "       26.12244898, 26.32653061, 26.53061224, 26.73469388, 26.93877551,\n",
       "       27.14285714, 27.34693878, 27.55102041, 27.75510204, 27.95918367,\n",
       "       28.16326531, 28.36734694, 28.57142857, 28.7755102 , 28.97959184,\n",
       "       29.18367347, 29.3877551 , 29.59183673, 29.79591837, 30.        ])"
      ]
     },
     "execution_count": 30,
     "metadata": {},
     "output_type": "execute_result"
    }
   ],
   "source": [
    "np.linspace(20,30)"
   ]
  },
  {
   "cell_type": "code",
   "execution_count": 31,
   "id": "42e93554",
   "metadata": {},
   "outputs": [
    {
     "data": {
      "text/plain": [
       "array([20.        , 21.11111111, 22.22222222, 23.33333333, 24.44444444,\n",
       "       25.55555556, 26.66666667, 27.77777778, 28.88888889, 30.        ])"
      ]
     },
     "execution_count": 31,
     "metadata": {},
     "output_type": "execute_result"
    }
   ],
   "source": [
    "np.linspace(20,30,10)"
   ]
  },
  {
   "cell_type": "code",
   "execution_count": 33,
   "id": "183795a8",
   "metadata": {},
   "outputs": [
    {
     "data": {
      "text/plain": [
       "array([[ 1,  2,  3],\n",
       "       [10, 20, 30],\n",
       "       [ 5,  5,  5],\n",
       "       [10, 10, 10]])"
      ]
     },
     "execution_count": 33,
     "metadata": {},
     "output_type": "execute_result"
    }
   ],
   "source": [
    "arr1=np.array([[1,2,3],[10,20,30]])\n",
    "arr2=np.array([[5,5,5],[10,10,10]])\n",
    "np.concatenate((arr1,arr2))"
   ]
  },
  {
   "cell_type": "code",
   "execution_count": 34,
   "id": "c7883231",
   "metadata": {},
   "outputs": [
    {
     "data": {
      "text/plain": [
       "array([[ 1,  2,  3,  5,  5,  5],\n",
       "       [10, 20, 30, 10, 10, 10]])"
      ]
     },
     "execution_count": 34,
     "metadata": {},
     "output_type": "execute_result"
    }
   ],
   "source": [
    "np.concatenate((arr1,arr2),axis=1)"
   ]
  },
  {
   "cell_type": "code",
   "execution_count": 37,
   "id": "57dd94f7",
   "metadata": {},
   "outputs": [
    {
     "data": {
      "text/plain": [
       "array([10])"
      ]
     },
     "execution_count": 37,
     "metadata": {},
     "output_type": "execute_result"
    }
   ],
   "source": [
    "np.intersect1d(arr1,arr2)"
   ]
  },
  {
   "cell_type": "code",
   "execution_count": 38,
   "id": "5c4528ce",
   "metadata": {},
   "outputs": [
    {
     "data": {
      "text/plain": [
       "array([[[ 1,  2,  3],\n",
       "        [10, 20, 30]],\n",
       "\n",
       "       [[ 5,  5,  5],\n",
       "        [10, 10, 10]]])"
      ]
     },
     "execution_count": 38,
     "metadata": {},
     "output_type": "execute_result"
    }
   ],
   "source": [
    "np.stack((arr1,arr2))"
   ]
  },
  {
   "cell_type": "code",
   "execution_count": 40,
   "id": "b2c7f82f",
   "metadata": {},
   "outputs": [
    {
     "data": {
      "text/plain": [
       "array([[[ 1,  2,  3],\n",
       "        [ 5,  5,  5]],\n",
       "\n",
       "       [[10, 20, 30],\n",
       "        [10, 10, 10]]])"
      ]
     },
     "execution_count": 40,
     "metadata": {},
     "output_type": "execute_result"
    }
   ],
   "source": [
    "np.stack((arr1,arr2),axis=1)"
   ]
  },
  {
   "cell_type": "code",
   "execution_count": 41,
   "id": "ce8807bc",
   "metadata": {},
   "outputs": [
    {
     "data": {
      "text/plain": [
       "3"
      ]
     },
     "execution_count": 41,
     "metadata": {},
     "output_type": "execute_result"
    }
   ],
   "source": [
    "np.ndim(np.stack((arr1,arr2)))"
   ]
  },
  {
   "cell_type": "code",
   "execution_count": 44,
   "id": "91a4586d",
   "metadata": {},
   "outputs": [
    {
     "data": {
      "text/plain": [
       "(2, 2, 3)"
      ]
     },
     "execution_count": 44,
     "metadata": {},
     "output_type": "execute_result"
    }
   ],
   "source": [
    "np.shape(np.stack((arr1,arr2)))"
   ]
  },
  {
   "cell_type": "code",
   "execution_count": null,
   "id": "10019716",
   "metadata": {},
   "outputs": [],
   "source": []
  }
 ],
 "metadata": {
  "kernelspec": {
   "display_name": "Python 3",
   "language": "python",
   "name": "python3"
  },
  "language_info": {
   "codemirror_mode": {
    "name": "ipython",
    "version": 3
   },
   "file_extension": ".py",
   "mimetype": "text/x-python",
   "name": "python",
   "nbconvert_exporter": "python",
   "pygments_lexer": "ipython3",
   "version": "3.9.5"
  }
 },
 "nbformat": 4,
 "nbformat_minor": 5
}
